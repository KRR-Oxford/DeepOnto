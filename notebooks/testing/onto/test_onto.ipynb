{
 "cells": [
  {
   "cell_type": "code",
   "execution_count": 1,
   "metadata": {},
   "outputs": [],
   "source": [
    "# append the paths\n",
    "import os\n",
    "import sys\n",
    "main_dir = os.getcwd().split(\"OntoPLM\")[0] + \"OntoPLM/src\"\n",
    "sys.path.append(main_dir)\n",
    "\n",
    "from ontoplm.onto import Ontology\n",
    "from ontoplm.onto.onto_text import *"
   ]
  },
  {
   "cell_type": "code",
   "execution_count": 2,
   "metadata": {},
   "outputs": [
    {
     "name": "stdout",
     "output_type": "stream",
     "text": [
      "<Ontology>\n",
      "  <owl_name>fma2nci.small</owl_name>\n",
      "  <num_classes>3696</num_classes>\n",
      "  <num_labs>9140</num_labs>\n",
      "  <avg_labs>2.47</avg_labs>\n",
      "  <num_entries_inv_idx>2195</num_entries_inv_idx>\n",
      "</Ontology>\n",
      "\n"
     ]
    }
   ],
   "source": [
    "onto_file = main_dir + \"/../data/LargeBio/ontos/fma2nci.small.owl\"\n",
    "tkz1 = Tokenizer.from_pretrained(BIOCLINICAL_BERT)\n",
    "onto = Ontology.from_new(onto_file, tokenizer=tkz1)"
   ]
  },
  {
   "cell_type": "code",
   "execution_count": 5,
   "metadata": {},
   "outputs": [
    {
     "name": "stdout",
     "output_type": "stream",
     "text": [
      "same file exists at .\n"
     ]
    }
   ],
   "source": [
    "onto.save_instance(\".\")\n",
    "onto2 = Ontology.from_saved(\".\")\n",
    "onto.owl = onto2.owl"
   ]
  },
  {
   "cell_type": "code",
   "execution_count": 7,
   "metadata": {},
   "outputs": [
    {
     "data": {
      "text/plain": [
       "False"
      ]
     },
     "execution_count": 7,
     "metadata": {},
     "output_type": "execute_result"
    }
   ],
   "source": [
    "onto == onto2"
   ]
  },
  {
   "cell_type": "code",
   "execution_count": 13,
   "metadata": {},
   "outputs": [
    {
     "data": {
      "text/plain": [
       "True"
      ]
     },
     "execution_count": 13,
     "metadata": {},
     "output_type": "execute_result"
    }
   ],
   "source": [
    "list(onto.__dict__.values()) == list(onto2.__dict__.values())"
   ]
  },
  {
   "cell_type": "code",
   "execution_count": 11,
   "metadata": {},
   "outputs": [
    {
     "name": "stdout",
     "output_type": "stream",
     "text": [
      "owl_path\n",
      "num_classes\n",
      "num_labs\n",
      "avg_labs\n",
      "num_entries_inv_idx\n",
      "saved_name\n",
      "class2idx\n",
      "idx2class\n",
      "lab_probs\n",
      "class2labs\n",
      "inv_idx\n",
      "owl\n"
     ]
    }
   ],
   "source": [
    "for k in onto.__dict__.keys():\n",
    "    assert onto.__dict__[k] == onto2.__dict__[k]\n",
    "    if not onto.__dict__[k] == onto2.__dict__[k]:\n",
    "        print(k)\n",
    "    else:\n",
    "        print(k)"
   ]
  },
  {
   "cell_type": "code",
   "execution_count": null,
   "metadata": {},
   "outputs": [],
   "source": [
    "import spacy\n",
    "spacy_lib_path = \"en_core_web_sm\"\n",
    "nlp = spacy.load(spacy_lib_path)"
   ]
  },
  {
   "cell_type": "code",
   "execution_count": null,
   "metadata": {},
   "outputs": [],
   "source": [
    "for tk in nlp(\"I don't fuck the shit with him\").doc:\n",
    "    print(tk)"
   ]
  },
  {
   "cell_type": "code",
   "execution_count": null,
   "metadata": {},
   "outputs": [],
   "source": [
    "list(nlp(\"I don't fuck the shit with him\").doc)"
   ]
  }
 ],
 "metadata": {
  "interpreter": {
   "hash": "de496b773d4ce2167d166ad87fbce459d470927eecd563250bb4cde47a9f0dfb"
  },
  "kernelspec": {
   "display_name": "Python 3.8.12 64-bit ('bert': conda)",
   "language": "python",
   "name": "python3"
  },
  "language_info": {
   "codemirror_mode": {
    "name": "ipython",
    "version": 3
   },
   "file_extension": ".py",
   "mimetype": "text/x-python",
   "name": "python",
   "nbconvert_exporter": "python",
   "pygments_lexer": "ipython3",
   "version": "3.8.12"
  },
  "orig_nbformat": 4
 },
 "nbformat": 4,
 "nbformat_minor": 2
}
