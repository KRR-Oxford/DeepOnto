{
 "cells": [
  {
   "cell_type": "code",
   "execution_count": 9,
   "metadata": {},
   "outputs": [],
   "source": [
    "import os\n",
    "import sys\n",
    "\n",
    "main_dir = os.getcwd().split(\"DeepOnto\")[0] + \"DeepOnto/src\"\n",
    "sys.path.append(main_dir)\n",
    "\n",
    "from deeponto.utils import read_jsonl\n",
    "from deeponto.onto.text import Tokenizer\n",
    "from rank_bm25 import BM25Okapi"
   ]
  },
  {
   "cell_type": "code",
   "execution_count": 2,
   "metadata": {},
   "outputs": [
    {
     "name": "stdout",
     "output_type": "stream",
     "text": [
      "all available keys: {'mention', 'label_title', 'label_id', 'label', 'context_left', 'context_right'}\n"
     ]
    }
   ],
   "source": [
    "jsons = read_jsonl(\"./full_dev_2017AA_pruned0.1_vs_2017AAfiltered_sample100.jsonl\")"
   ]
  },
  {
   "cell_type": "code",
   "execution_count": 4,
   "metadata": {},
   "outputs": [],
   "source": [
    "subword_tkz = Tokenizer.from_pretrained(pretrained_path=\"bert-base-uncased\")\n",
    "word_tkz = Tokenizer.from_rule_based(spacy_lib_path=\"en_core_web_sm\")"
   ]
  },
  {
   "cell_type": "code",
   "execution_count": 7,
   "metadata": {},
   "outputs": [
    {
     "data": {
      "text/plain": [
       "['Verruciform', 'xanthoma', 'of', 'oral', 'mucous', 'membrane']"
      ]
     },
     "execution_count": 7,
     "metadata": {},
     "output_type": "execute_result"
    }
   ],
   "source": [
    "word_tkz.tokenize(jsons[11][\"label_title\"])"
   ]
  },
  {
   "cell_type": "code",
   "execution_count": 8,
   "metadata": {},
   "outputs": [
    {
     "data": {
      "text/plain": [
       "['ve',\n",
       " '##rr',\n",
       " '##uc',\n",
       " '##iform',\n",
       " 'x',\n",
       " '##ant',\n",
       " '##hom',\n",
       " '##a',\n",
       " 'of',\n",
       " 'oral',\n",
       " 'mu',\n",
       " '##cous',\n",
       " 'membrane']"
      ]
     },
     "execution_count": 8,
     "metadata": {},
     "output_type": "execute_result"
    }
   ],
   "source": [
    "subword_tkz.tokenize(jsons[11][\"label_title\"])"
   ]
  },
  {
   "cell_type": "code",
   "execution_count": 10,
   "metadata": {},
   "outputs": [],
   "source": [
    "sub_word_corpus = [subword_tkz.tokenize(entry[\"label_title\"]) for entry in jsons]\n",
    "word_corpus = [word_tkz.tokenize(entry[\"label_title\"]) for entry in jsons]"
   ]
  },
  {
   "cell_type": "code",
   "execution_count": 11,
   "metadata": {},
   "outputs": [],
   "source": [
    "sub_word_bm25 = BM25Okapi(sub_word_corpus)\n",
    "word_bm25 = BM25Okapi(word_corpus)"
   ]
  },
  {
   "cell_type": "code",
   "execution_count": 13,
   "metadata": {},
   "outputs": [
    {
     "data": {
      "text/plain": [
       "array([0.        , 0.        , 0.        , 0.        , 0.        ,\n",
       "       0.        , 0.        , 0.        , 0.        , 0.        ,\n",
       "       0.        , 0.        , 3.08841726, 0.        , 0.        ,\n",
       "       0.        , 0.        , 0.        , 0.        , 0.        ,\n",
       "       3.08841726, 0.        , 0.        , 0.        , 0.        ,\n",
       "       0.        , 0.        , 0.        , 0.        , 0.        ,\n",
       "       0.        , 0.        , 0.        , 0.        , 0.        ,\n",
       "       0.        , 0.        , 0.        , 0.        , 0.        ,\n",
       "       3.87239005, 0.        , 0.        , 0.        , 0.        ,\n",
       "       0.        , 0.        , 3.08841726, 0.        , 0.        ,\n",
       "       0.        , 0.        , 0.        , 0.        , 0.        ,\n",
       "       0.        , 0.        , 0.        , 0.        , 0.        ,\n",
       "       0.        , 0.        , 0.        , 0.        , 0.        ,\n",
       "       0.        , 0.        , 0.        , 0.        , 0.        ,\n",
       "       3.08841726, 0.        , 0.        , 0.        , 0.        ,\n",
       "       0.        , 0.        , 0.        , 0.        , 0.        ,\n",
       "       0.        , 0.        , 0.        , 0.        , 0.        ,\n",
       "       0.        , 0.        , 0.        , 0.        , 0.        ,\n",
       "       0.        , 0.        , 0.        , 0.        , 0.        ,\n",
       "       0.        , 0.        , 0.        , 0.        , 0.        ])"
      ]
     },
     "execution_count": 13,
     "metadata": {},
     "output_type": "execute_result"
    }
   ],
   "source": [
    "sub_word_bm25.get_scores(subword_tkz.tokenize(jsons[12][\"mention\"]))"
   ]
  },
  {
   "cell_type": "code",
   "execution_count": 17,
   "metadata": {},
   "outputs": [
    {
     "name": "stdout",
     "output_type": "stream",
     "text": [
      "top 10 candidates for the mention: hypertension\n"
     ]
    },
    {
     "data": {
      "text/plain": [
       "[['hyper', '##emia'],\n",
       " ['hyper', '##tens', '##ive', 'disease'],\n",
       " ['hyper', '##and', '##rogen', '##ism'],\n",
       " ['hyper', '##tens', '##ive', 'disease'],\n",
       " ['hyper', '##tens', '##ive', 'disease'],\n",
       " ['ni', '##l'],\n",
       " ['ref', '##lux', 'ne', '##ph', '##rop', '##athy', '(', 'disorder', ')'],\n",
       " ['corona', '##ry', 'arte', '##rio', '##sc', '##ler', '##osis'],\n",
       " ['primary', 'bacterial', 'per', '##ito', '##ni', '##tis'],\n",
       " ['age', 'related', 'mac', '##ular', 'de', '##gen', '##eration']]"
      ]
     },
     "execution_count": 17,
     "metadata": {},
     "output_type": "execute_result"
    }
   ],
   "source": [
    "print(\"top 10 candidates for the mention:\", jsons[12][\"mention\"])\n",
    "sub_word_bm25.get_top_n(subword_tkz.tokenize(jsons[12][\"mention\"]), sub_word_corpus, n=10)"
   ]
  },
  {
   "cell_type": "code",
   "execution_count": 18,
   "metadata": {},
   "outputs": [
    {
     "name": "stdout",
     "output_type": "stream",
     "text": [
      "top 10 candidates for the mention: hypertension\n"
     ]
    },
    {
     "data": {
      "text/plain": [
       "[['NIL'],\n",
       " ['Peripheral', 'Vascular', 'Diseases'],\n",
       " ['Obesity'],\n",
       " ['Coronary', 'Arteriosclerosis'],\n",
       " ['Age', 'related', 'macular', 'degeneration'],\n",
       " ['Moyamoya', 'Disease'],\n",
       " ['Disease'],\n",
       " ['Rheumatoid', 'Arthritis'],\n",
       " ['reproductive', 'system', 'disorder'],\n",
       " ['Reflux', 'nephropathy', '(', 'disorder', ')']]"
      ]
     },
     "execution_count": 18,
     "metadata": {},
     "output_type": "execute_result"
    }
   ],
   "source": [
    "print(\"top 10 candidates for the mention:\", jsons[12][\"mention\"])\n",
    "word_bm25.get_top_n(word_tkz.tokenize(jsons[12][\"mention\"]), word_corpus, n=10)"
   ]
  },
  {
   "cell_type": "code",
   "execution_count": null,
   "metadata": {},
   "outputs": [],
   "source": []
  }
 ],
 "metadata": {
  "kernelspec": {
   "display_name": "Python 3.8.12 ('bert')",
   "language": "python",
   "name": "python3"
  },
  "language_info": {
   "codemirror_mode": {
    "name": "ipython",
    "version": 3
   },
   "file_extension": ".py",
   "mimetype": "text/x-python",
   "name": "python",
   "nbconvert_exporter": "python",
   "pygments_lexer": "ipython3",
   "version": "3.8.12"
  },
  "orig_nbformat": 4,
  "vscode": {
   "interpreter": {
    "hash": "de496b773d4ce2167d166ad87fbce459d470927eecd563250bb4cde47a9f0dfb"
   }
  }
 },
 "nbformat": 4,
 "nbformat_minor": 2
}
