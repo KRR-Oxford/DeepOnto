{
 "cells": [
  {
   "cell_type": "code",
   "execution_count": 40,
   "metadata": {},
   "outputs": [],
   "source": [
    "from itertools import chain\n",
    "\n",
    "def latex2html(latex_text):\n",
    "    raw = list(chain.from_iterable([x.split(\"&\") for x in latex_text.split(\"&&\")]))\n",
    "    out = \"  <tr>\\n\"\n",
    "    for x in raw:\n",
    "        x = x.strip()\n",
    "        x = x.replace(\"$\", \"\")\n",
    "        if x == \"NA\":\n",
    "            x = \"\"\n",
    "        out += f\"    <td>{x}</td>\\n\"\n",
    "    out += f\"  </tr>\"\n",
    "    print(out)\n",
    "    "
   ]
  },
  {
   "cell_type": "code",
   "execution_count": 48,
   "metadata": {},
   "outputs": [
    {
     "name": "stdout",
     "output_type": "stream",
     "text": [
      "  <tr>\n",
      "    <td>Word2Vec+RF</td>\n",
      "    <td>0.512</td>\n",
      "    <td>0.368</td>\n",
      "    <td>0.694</td>\n",
      "    <td>0.834</td>\n",
      "    <td>0.577</td>\n",
      "    <td>0.433</td>\n",
      "    <td>0.773</td>\n",
      "    <td>0.880</td>\n",
      "  </tr>\n",
      "  <tr>\n",
      "    <td>OWL2Vec*+RF</td>\n",
      "    <td>0.603</td>\n",
      "    <td>0.461</td>\n",
      "    <td>0.782</td>\n",
      "    <td>0.860</td>\n",
      "    <td>0.666</td>\n",
      "    <td>0.547</td>\n",
      "    <td>0.827</td>\n",
      "    <td>0.880</td>\n",
      "  </tr>\n",
      "  <tr>\n",
      "    <td>BERTSubs (IC)</td>\n",
      "    <td>0.530</td>\n",
      "    <td>0.333</td>\n",
      "    <td>0.786</td>\n",
      "    <td>0.948</td>\n",
      "    <td>0.638</td>\n",
      "    <td>0.463</td>\n",
      "    <td>0.859</td>\n",
      "    <td>0.953</td>\n",
      "  </tr>\n"
     ]
    }
   ],
   "source": [
    "latex2html(\"Word2Vec+RF && $0.512$ & $0.368$ & $0.694$\t& $0.834$  && $0.577$ & $0.433$ &$0.773$ &$0.880$\")\n",
    "latex2html(\"OWL2Vec*+RF && $0.603$ & $0.461$ & $0.782$ & $0.860$ && $0.666$ & $0.547$ & $0.827$ & $0.880$\")\n",
    "latex2html(\"BERTSubs (IC) && $0.530$ & $0.333$ & $0.786$ & $0.948$ && $0.638$ &$0.463$ &$0.859$ &$0.953$\")"
   ]
  },
  {
   "cell_type": "code",
   "execution_count": null,
   "metadata": {},
   "outputs": [],
   "source": []
  },
  {
   "cell_type": "code",
   "execution_count": null,
   "metadata": {},
   "outputs": [],
   "source": []
  }
 ],
 "metadata": {
  "kernelspec": {
   "display_name": "Python 3.8.13 ('bert')",
   "language": "python",
   "name": "python3"
  },
  "language_info": {
   "codemirror_mode": {
    "name": "ipython",
    "version": 3
   },
   "file_extension": ".py",
   "mimetype": "text/x-python",
   "name": "python",
   "nbconvert_exporter": "python",
   "pygments_lexer": "ipython3",
   "version": "3.8.13"
  },
  "orig_nbformat": 4,
  "vscode": {
   "interpreter": {
    "hash": "de496b773d4ce2167d166ad87fbce459d470927eecd563250bb4cde47a9f0dfb"
   }
  }
 },
 "nbformat": 4,
 "nbformat_minor": 2
}
